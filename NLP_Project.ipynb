{
  "nbformat": 4,
  "nbformat_minor": 0,
  "metadata": {
    "colab": {
      "provenance": [],
      "authorship_tag": "ABX9TyMpd4g2x9Cw9Q1QPD5Dr2aB",
      "include_colab_link": true
    },
    "kernelspec": {
      "name": "python3",
      "display_name": "Python 3"
    },
    "language_info": {
      "name": "python"
    }
  },
  "cells": [
    {
      "cell_type": "markdown",
      "metadata": {
        "id": "view-in-github",
        "colab_type": "text"
      },
      "source": [
        "<a href=\"https://colab.research.google.com/github/dhamu2908/CS6370-NLP/blob/main/NLP_Project.ipynb\" target=\"_parent\"><img src=\"https://colab.research.google.com/assets/colab-badge.svg\" alt=\"Open In Colab\"/></a>"
      ]
    },
    {
      "cell_type": "code",
      "source": [
        "import nltk\n",
        "nltk.download('punkt')\n",
        "nltk.download('wordnet')\n",
        "nltk.download('punkt_tab')\n",
        "from nltk.tokenize import word_tokenize\n",
        "from nltk.stem import WordNetLemmatizer"
      ],
      "metadata": {
        "collapsed": true,
        "id": "QSjIG3g4fHEQ"
      },
      "execution_count": null,
      "outputs": []
    },
    {
      "cell_type": "code",
      "source": [
        "lemmatizer = WordNetLemmatizer()"
      ],
      "metadata": {
        "id": "usOLWbMyhXpJ"
      },
      "execution_count": null,
      "outputs": []
    },
    {
      "cell_type": "markdown",
      "source": [
        "***Three Documents Given***"
      ],
      "metadata": {
        "id": "3wnBGSNff_rl"
      }
    },
    {
      "cell_type": "code",
      "source": [
        "d1 = \"Herbivores are typically plant eaters and not meat eaters\"\n",
        "d2 = \"Carnivores are typically meat eaters and not plant eaters\"\n",
        "d3 = \"Deers eat grass and leaves\""
      ],
      "metadata": {
        "id": "U505qWV8fHBr"
      },
      "execution_count": null,
      "outputs": []
    },
    {
      "cell_type": "markdown",
      "source": [
        "**Preprocessing each document using the stop words** **[are, and, not]**"
      ],
      "metadata": {
        "id": "M5UATBfSgZ36"
      }
    },
    {
      "cell_type": "code",
      "source": [
        "stop_words = ['are', 'and', 'not']\n",
        "\n",
        "def preprocess(doc):\n",
        "    tokens = word_tokenize(doc)\n",
        "    lemmatizer = WordNetLemmatizer()\n",
        "    processed_tokens = [lemmatizer.lemmatize(token) for token in tokens if token.lower() not in stop_words]\n",
        "    return processed_tokens # Added return statement to return processed tokens\n",
        "\n",
        "PreProcessed_d1 = preprocess(d1)\n",
        "PreProcessed_d2 = preprocess(d2)\n",
        "PreProcessed_d3 = preprocess(d3)"
      ],
      "metadata": {
        "id": "xEk8r31KfG-s"
      },
      "execution_count": null,
      "outputs": []
    },
    {
      "cell_type": "code",
      "source": [
        "print(PreProcessed_d1)\n",
        "print(PreProcessed_d2)\n",
        "print(PreProcessed_d3)"
      ],
      "metadata": {
        "colab": {
          "base_uri": "https://localhost:8080/"
        },
        "id": "Sp1vP_wnfG8H",
        "outputId": "1217ef69-e4da-4024-83e5-c422c332691a"
      },
      "execution_count": null,
      "outputs": [
        {
          "output_type": "stream",
          "name": "stdout",
          "text": [
            "['Herbivores', 'typically', 'plant', 'eater', 'meat', 'eater']\n",
            "['Carnivores', 'typically', 'meat', 'eater', 'plant', 'eater']\n",
            "['Deers', 'eat', 'grass', 'leaf']\n"
          ]
        }
      ]
    },
    {
      "cell_type": "code",
      "source": [],
      "metadata": {
        "id": "ERRsjEYIht_n"
      },
      "execution_count": null,
      "outputs": []
    }
  ]
}